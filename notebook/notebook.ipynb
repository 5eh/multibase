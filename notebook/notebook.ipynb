{
 "cells": [
  {
   "cell_type": "markdown",
   "metadata": {},
   "source": [
    "### Notebook\n",
    "\n",
    "In this notebook, we connect to a running Subsquid Graph server and count all transactions.\n",
    "\n",
    "We use a GraphQL query to fetch the transfer data and then log the total number of transfers."
   ]
  },
  {
   "cell_type": "code",
   "execution_count": 12,
   "metadata": {},
   "outputs": [
    {
     "data": {
      "text/markdown": [
       "\n",
       "### Analysis of Transactions\n",
       "\n",
       "The tota amount of transactions are : **7611921**\n"
      ]
     },
     "execution_count": 12,
     "metadata": {},
     "output_type": "execute_result"
    }
   ],
   "source": [
    "const url = 'http://localhost:4350/graphql';\n",
    "const query = `\n",
    "query MyQuery {\n",
    "    transfers {\n",
    "        timestamp\n",
    "        blockNumber\n",
    "    }\n",
    "}\n",
    "`;\n",
    "\n",
    "const response = await fetch(url, {\n",
    "    method: 'POST',\n",
    "    headers: {\n",
    "        'Content-Type': 'application/json'\n",
    "    },\n",
    "    body: JSON.stringify({ query })\n",
    "});\n",
    "\n",
    "const data = await response.json();\n",
    "Deno.jupyter.md`\n",
    "### Analysis of Transactions\n",
    "\n",
    "The tota amount of transactions are : **${data.data.transfers.length}**\n",
    "`\n"
   ]
  }
 ],
 "metadata": {
  "kernelspec": {
   "display_name": "Deno",
   "language": "typescript",
   "name": "deno"
  },
  "language_info": {
   "codemirror_mode": "typescript",
   "file_extension": ".ts",
   "mimetype": "text/x.typescript",
   "name": "typescript",
   "nbconvert_exporter": "script",
   "pygments_lexer": "typescript",
   "version": "5.7.3"
  }
 },
 "nbformat": 4,
 "nbformat_minor": 2
}
